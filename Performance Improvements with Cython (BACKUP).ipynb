{
 "cells": [
  {
   "cell_type": "code",
   "execution_count": 30,
   "metadata": {},
   "outputs": [],
   "source": [
    "import time"
   ]
  },
  {
   "cell_type": "code",
   "execution_count": 31,
   "metadata": {},
   "outputs": [],
   "source": [
    "def fib(n):\n",
    "    if (n == 0):\n",
    "        return 0\n",
    "    if (n == 1):\n",
    "        return 1\n",
    "    result = fib(n-1) + fib(n-2)\n",
    "    return result"
   ]
  },
  {
   "cell_type": "code",
   "execution_count": 32,
   "metadata": {},
   "outputs": [
    {
     "name": "stdout",
     "output_type": "stream",
     "text": [
      "The Cython extension is already loaded. To reload it, use:\n",
      "  %reload_ext Cython\n"
     ]
    }
   ],
   "source": [
    "%load_ext Cython"
   ]
  },
  {
   "cell_type": "code",
   "execution_count": 33,
   "metadata": {},
   "outputs": [],
   "source": [
    "%%cython\n",
    "\n",
    "cpdef int fib_c(int n):\n",
    "    if (n == 0):\n",
    "        return 0\n",
    "    if (n == 1):\n",
    "        return 1\n",
    "    cdef int result\n",
    "    result = fib_c(n-1) + fib_c(n-2)\n",
    "    return result"
   ]
  },
  {
   "cell_type": "code",
   "execution_count": 34,
   "metadata": {},
   "outputs": [],
   "source": [
    "def slow_print(n=30, cython=False, display=True):\n",
    "    start = time.time()\n",
    "    for i in range(n):\n",
    "        result = 0\n",
    "        if not cython:\n",
    "            result = fib(i)\n",
    "        else:\n",
    "            result = fib_c(i)\n",
    "        if display:\n",
    "            if (i%10 == 0 or i%10 == 1 or i%10 == 1 or i%10 == 2 or  i > n-3):\n",
    "                print('{} - {}'.format(i, result))\n",
    "            else:\n",
    "                print('.')\n",
    "    finish = time.time()\n",
    "    runtime = finish-start\n",
    "    if cython:\n",
    "        print('TOTAL EXECUTION TIME (with cython) IS %.3f sec' % (runtime))\n",
    "    else:\n",
    "        print('TOTAL EXECUTION TIME (pure python) IS %.3f sec' % (runtime))\n",
    "    print()"
   ]
  },
  {
   "cell_type": "code",
   "execution_count": 35,
   "metadata": {
    "scrolled": true
   },
   "outputs": [
    {
     "name": "stdout",
     "output_type": "stream",
     "text": [
      "0 - 0\n",
      "1 - 1\n",
      "2 - 1\n",
      ".\n",
      ".\n",
      ".\n",
      ".\n",
      ".\n",
      ".\n",
      ".\n",
      "10 - 55\n",
      "11 - 89\n",
      "12 - 144\n",
      ".\n",
      ".\n",
      ".\n",
      ".\n",
      ".\n",
      ".\n",
      ".\n",
      "20 - 6765\n",
      "21 - 10946\n",
      "22 - 17711\n",
      ".\n",
      ".\n",
      ".\n",
      ".\n",
      ".\n",
      "28 - 317811\n",
      "29 - 514229\n",
      "TOTAL EXECUTION TIME (pure python) IS 0.496 sec\n",
      "\n",
      "0 - 0\n",
      "1 - 1\n",
      "2 - 1\n",
      ".\n",
      ".\n",
      ".\n",
      ".\n",
      ".\n",
      ".\n",
      ".\n",
      "10 - 55\n",
      "11 - 89\n",
      "12 - 144\n",
      ".\n",
      ".\n",
      ".\n",
      ".\n",
      ".\n",
      ".\n",
      ".\n",
      "20 - 6765\n",
      "21 - 10946\n",
      "22 - 17711\n",
      ".\n",
      ".\n",
      ".\n",
      ".\n",
      ".\n",
      "28 - 317811\n",
      "29 - 514229\n",
      "TOTAL EXECUTION TIME (with cython) IS 0.006 sec\n",
      "\n"
     ]
    }
   ],
   "source": [
    "slow_print(cython=False)\n",
    "slow_print(cython=True)"
   ]
  },
  {
   "cell_type": "code",
   "execution_count": 36,
   "metadata": {
    "scrolled": true
   },
   "outputs": [
    {
     "name": "stdout",
     "output_type": "stream",
     "text": [
      "0 - 0\n",
      "1 - 1\n",
      "2 - 1\n",
      ".\n",
      ".\n",
      ".\n",
      ".\n",
      ".\n",
      ".\n",
      ".\n",
      "10 - 55\n",
      "11 - 89\n",
      "12 - 144\n",
      ".\n",
      ".\n",
      ".\n",
      ".\n",
      ".\n",
      ".\n",
      ".\n",
      "20 - 6765\n",
      "21 - 10946\n",
      "22 - 17711\n",
      ".\n",
      ".\n",
      ".\n",
      ".\n",
      ".\n",
      ".\n",
      ".\n",
      "30 - 832040\n",
      "31 - 1346269\n",
      "32 - 2178309\n",
      "33 - 3524578\n",
      "34 - 5702887\n",
      "TOTAL EXECUTION TIME (pure python) IS 4.984 sec\n",
      "\n",
      "0 - 0\n",
      "1 - 1\n",
      "2 - 1\n",
      ".\n",
      ".\n",
      ".\n",
      ".\n",
      ".\n",
      ".\n",
      ".\n",
      "10 - 55\n",
      "11 - 89\n",
      "12 - 144\n",
      ".\n",
      ".\n",
      ".\n",
      ".\n",
      ".\n",
      ".\n",
      ".\n",
      "20 - 6765\n",
      "21 - 10946\n",
      "22 - 17711\n",
      ".\n",
      ".\n",
      ".\n",
      ".\n",
      ".\n",
      ".\n",
      ".\n",
      "30 - 832040\n",
      "31 - 1346269\n",
      "32 - 2178309\n",
      "33 - 3524578\n",
      "34 - 5702887\n",
      "TOTAL EXECUTION TIME (with cython) IS 0.091 sec\n",
      "\n"
     ]
    }
   ],
   "source": [
    "slow_print(n=35, cython=False)\n",
    "slow_print(n=35, cython=True)"
   ]
  },
  {
   "cell_type": "code",
   "execution_count": 37,
   "metadata": {},
   "outputs": [
    {
     "name": "stdout",
     "output_type": "stream",
     "text": [
      "TOTAL EXECUTION TIME (pure python) IS 4.770 sec\n",
      "\n",
      "TOTAL EXECUTION TIME (with cython) IS 0.061 sec\n",
      "\n"
     ]
    }
   ],
   "source": [
    "slow_print(n=35, cython=False, display=False)\n",
    "slow_print(n=35, cython=True, display=False)"
   ]
  },
  {
   "cell_type": "code",
   "execution_count": 38,
   "metadata": {},
   "outputs": [
    {
     "name": "stdout",
     "output_type": "stream",
     "text": [
      "TOTAL EXECUTION TIME (pure python) IS 68.537 sec\n",
      "\n",
      "TOTAL EXECUTION TIME (with cython) IS 0.867 sec\n",
      "\n"
     ]
    }
   ],
   "source": [
    "slow_print(n=40, cython=False, display=False)\n",
    "slow_print(n=40, cython=True, display=False)"
   ]
  },
  {
   "cell_type": "code",
   "execution_count": null,
   "metadata": {},
   "outputs": [],
   "source": []
  }
 ],
 "metadata": {
  "kernelspec": {
   "display_name": "PUGS",
   "language": "python",
   "name": "pugs"
  },
  "language_info": {
   "codemirror_mode": {
    "name": "ipython",
    "version": 3
   },
   "file_extension": ".py",
   "mimetype": "text/x-python",
   "name": "python",
   "nbconvert_exporter": "python",
   "pygments_lexer": "ipython3",
   "version": "3.5.2"
  }
 },
 "nbformat": 4,
 "nbformat_minor": 2
}
